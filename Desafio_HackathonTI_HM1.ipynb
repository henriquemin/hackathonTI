{
 "cells": [
  {
   "cell_type": "markdown",
   "metadata": {},
   "source": [
    "## Desafio Hackathon TI - Curitiba\n"
   ]
  },
  {
   "cell_type": "markdown",
   "metadata": {},
   "source": [
    "### 1. Identificao do problema a resolver"
   ]
  },
  {
   "cell_type": "code",
   "execution_count": null,
   "metadata": {},
   "outputs": [],
   "source": [
    "# Analisar as variações na qualidade do ar em metrópole asiática através do comportamento dos poluentes particulados PM2.5 e PM10\n",
    "# Variaveis a serem trabalhadas: Year, Month, PM2.5, PM10"
   ]
  },
  {
   "cell_type": "markdown",
   "metadata": {},
   "source": [
    "### 2. Preparacação e exploração dos dados"
   ]
  },
  {
   "cell_type": "code",
   "execution_count": 1,
   "metadata": {},
   "outputs": [],
   "source": [
    "# Importar as biblioticas para utilizacao no desafio\n",
    "import numpy as np\n",
    "import pandas as pd \n",
    "\n",
    "import matplotlib.pyplot as plt\n",
    "%matplotlib inline\n",
    "import seaborn as sns\n",
    "\n",
    "from datetime import datetime, timedelta\n",
    "\n",
    "import glob\n",
    "import os"
   ]
  },
  {
   "cell_type": "code",
   "execution_count": 2,
   "metadata": {},
   "outputs": [
    {
     "data": {
      "text/html": [
       "<div>\n",
       "<style scoped>\n",
       "    .dataframe tbody tr th:only-of-type {\n",
       "        vertical-align: middle;\n",
       "    }\n",
       "\n",
       "    .dataframe tbody tr th {\n",
       "        vertical-align: top;\n",
       "    }\n",
       "\n",
       "    .dataframe thead th {\n",
       "        text-align: right;\n",
       "    }\n",
       "</style>\n",
       "<table border=\"1\" class=\"dataframe\">\n",
       "  <thead>\n",
       "    <tr style=\"text-align: right;\">\n",
       "      <th></th>\n",
       "      <th>No</th>\n",
       "      <th>year</th>\n",
       "      <th>month</th>\n",
       "      <th>day</th>\n",
       "      <th>hour</th>\n",
       "      <th>PM2.5</th>\n",
       "      <th>PM10</th>\n",
       "      <th>SO2</th>\n",
       "      <th>NO2</th>\n",
       "      <th>CO</th>\n",
       "      <th>O3</th>\n",
       "      <th>TEMP</th>\n",
       "      <th>PRES</th>\n",
       "      <th>DEWP</th>\n",
       "      <th>RAIN</th>\n",
       "      <th>wd</th>\n",
       "      <th>WSPM</th>\n",
       "      <th>station</th>\n",
       "    </tr>\n",
       "  </thead>\n",
       "  <tbody>\n",
       "    <tr>\n",
       "      <th>0</th>\n",
       "      <td>1</td>\n",
       "      <td>2013</td>\n",
       "      <td>3</td>\n",
       "      <td>1</td>\n",
       "      <td>0</td>\n",
       "      <td>4.0</td>\n",
       "      <td>4.0</td>\n",
       "      <td>4.0</td>\n",
       "      <td>7.0</td>\n",
       "      <td>300.0</td>\n",
       "      <td>77.0</td>\n",
       "      <td>-0.7</td>\n",
       "      <td>1023.0</td>\n",
       "      <td>-18.8</td>\n",
       "      <td>0.0</td>\n",
       "      <td>NNW</td>\n",
       "      <td>4.4</td>\n",
       "      <td>Aotizhongxin</td>\n",
       "    </tr>\n",
       "    <tr>\n",
       "      <th>1</th>\n",
       "      <td>2</td>\n",
       "      <td>2013</td>\n",
       "      <td>3</td>\n",
       "      <td>1</td>\n",
       "      <td>1</td>\n",
       "      <td>8.0</td>\n",
       "      <td>8.0</td>\n",
       "      <td>4.0</td>\n",
       "      <td>7.0</td>\n",
       "      <td>300.0</td>\n",
       "      <td>77.0</td>\n",
       "      <td>-1.1</td>\n",
       "      <td>1023.2</td>\n",
       "      <td>-18.2</td>\n",
       "      <td>0.0</td>\n",
       "      <td>N</td>\n",
       "      <td>4.7</td>\n",
       "      <td>Aotizhongxin</td>\n",
       "    </tr>\n",
       "    <tr>\n",
       "      <th>2</th>\n",
       "      <td>3</td>\n",
       "      <td>2013</td>\n",
       "      <td>3</td>\n",
       "      <td>1</td>\n",
       "      <td>2</td>\n",
       "      <td>7.0</td>\n",
       "      <td>7.0</td>\n",
       "      <td>5.0</td>\n",
       "      <td>10.0</td>\n",
       "      <td>300.0</td>\n",
       "      <td>73.0</td>\n",
       "      <td>-1.1</td>\n",
       "      <td>1023.5</td>\n",
       "      <td>-18.2</td>\n",
       "      <td>0.0</td>\n",
       "      <td>NNW</td>\n",
       "      <td>5.6</td>\n",
       "      <td>Aotizhongxin</td>\n",
       "    </tr>\n",
       "    <tr>\n",
       "      <th>3</th>\n",
       "      <td>4</td>\n",
       "      <td>2013</td>\n",
       "      <td>3</td>\n",
       "      <td>1</td>\n",
       "      <td>3</td>\n",
       "      <td>6.0</td>\n",
       "      <td>6.0</td>\n",
       "      <td>11.0</td>\n",
       "      <td>11.0</td>\n",
       "      <td>300.0</td>\n",
       "      <td>72.0</td>\n",
       "      <td>-1.4</td>\n",
       "      <td>1024.5</td>\n",
       "      <td>-19.4</td>\n",
       "      <td>0.0</td>\n",
       "      <td>NW</td>\n",
       "      <td>3.1</td>\n",
       "      <td>Aotizhongxin</td>\n",
       "    </tr>\n",
       "    <tr>\n",
       "      <th>4</th>\n",
       "      <td>5</td>\n",
       "      <td>2013</td>\n",
       "      <td>3</td>\n",
       "      <td>1</td>\n",
       "      <td>4</td>\n",
       "      <td>3.0</td>\n",
       "      <td>3.0</td>\n",
       "      <td>12.0</td>\n",
       "      <td>12.0</td>\n",
       "      <td>300.0</td>\n",
       "      <td>72.0</td>\n",
       "      <td>-2.0</td>\n",
       "      <td>1025.2</td>\n",
       "      <td>-19.5</td>\n",
       "      <td>0.0</td>\n",
       "      <td>N</td>\n",
       "      <td>2.0</td>\n",
       "      <td>Aotizhongxin</td>\n",
       "    </tr>\n",
       "  </tbody>\n",
       "</table>\n",
       "</div>"
      ],
      "text/plain": [
       "   No  year  month  day  hour  PM2.5  PM10   SO2   NO2     CO    O3  TEMP  \\\n",
       "0   1  2013      3    1     0    4.0   4.0   4.0   7.0  300.0  77.0  -0.7   \n",
       "1   2  2013      3    1     1    8.0   8.0   4.0   7.0  300.0  77.0  -1.1   \n",
       "2   3  2013      3    1     2    7.0   7.0   5.0  10.0  300.0  73.0  -1.1   \n",
       "3   4  2013      3    1     3    6.0   6.0  11.0  11.0  300.0  72.0  -1.4   \n",
       "4   5  2013      3    1     4    3.0   3.0  12.0  12.0  300.0  72.0  -2.0   \n",
       "\n",
       "     PRES  DEWP  RAIN   wd  WSPM       station  \n",
       "0  1023.0 -18.8   0.0  NNW   4.4  Aotizhongxin  \n",
       "1  1023.2 -18.2   0.0    N   4.7  Aotizhongxin  \n",
       "2  1023.5 -18.2   0.0  NNW   5.6  Aotizhongxin  \n",
       "3  1024.5 -19.4   0.0   NW   3.1  Aotizhongxin  \n",
       "4  1025.2 -19.5   0.0    N   2.0  Aotizhongxin  "
      ]
     },
     "execution_count": 2,
     "metadata": {},
     "output_type": "execute_result"
    }
   ],
   "source": [
    "# Importar e concatenar os arquivos\n",
    "path = r'C:/Users/HM/Desktop/Hackathon_TI/PRSA_Data_20130301-20170228'     # caminho do diretorio\n",
    "all_files = glob.glob(os.path.join(path, \"*.csv\"))     # advisable to use os.path.join as this makes concatenation OS independent\n",
    "\n",
    "dframe = pd.DataFrame()\n",
    "list_ = []\n",
    "for file_ in all_files:\n",
    "    df = pd.read_csv(file_,index_col=None, header=0)\n",
    "    list_.append(df)\n",
    "dframe = pd.concat(list_)\n",
    "\n",
    "cols = ['No', 'year', 'month', 'day', 'hour', 'PM2.5', 'PM10', 'SO2', 'NO2', 'CO', 'O3', 'TEMP',\n",
    "       'PRES', 'DEWP', 'RAIN', 'wd', 'WSPM', 'station']\n",
    "dframe = dframe[cols]\n",
    "\n",
    "dframe.head()"
   ]
  },
  {
   "cell_type": "code",
   "execution_count": 3,
   "metadata": {},
   "outputs": [],
   "source": [
    "#Cria uma cópia do dframe\n",
    "dframe_copy = dframe.copy()"
   ]
  },
  {
   "cell_type": "code",
   "execution_count": 4,
   "metadata": {},
   "outputs": [
    {
     "data": {
      "text/html": [
       "<div>\n",
       "<style scoped>\n",
       "    .dataframe tbody tr th:only-of-type {\n",
       "        vertical-align: middle;\n",
       "    }\n",
       "\n",
       "    .dataframe tbody tr th {\n",
       "        vertical-align: top;\n",
       "    }\n",
       "\n",
       "    .dataframe thead th {\n",
       "        text-align: right;\n",
       "    }\n",
       "</style>\n",
       "<table border=\"1\" class=\"dataframe\">\n",
       "  <thead>\n",
       "    <tr style=\"text-align: right;\">\n",
       "      <th></th>\n",
       "      <th>No</th>\n",
       "      <th>year</th>\n",
       "      <th>month</th>\n",
       "      <th>day</th>\n",
       "      <th>hour</th>\n",
       "      <th>PM2.5</th>\n",
       "      <th>PM10</th>\n",
       "      <th>SO2</th>\n",
       "      <th>NO2</th>\n",
       "      <th>CO</th>\n",
       "      <th>O3</th>\n",
       "      <th>TEMP</th>\n",
       "      <th>PRES</th>\n",
       "      <th>DEWP</th>\n",
       "      <th>RAIN</th>\n",
       "      <th>wd</th>\n",
       "      <th>WSPM</th>\n",
       "      <th>station</th>\n",
       "    </tr>\n",
       "  </thead>\n",
       "  <tbody>\n",
       "    <tr>\n",
       "      <th>0</th>\n",
       "      <td>1</td>\n",
       "      <td>2013</td>\n",
       "      <td>3</td>\n",
       "      <td>1</td>\n",
       "      <td>0</td>\n",
       "      <td>4.0</td>\n",
       "      <td>4.0</td>\n",
       "      <td>4.0</td>\n",
       "      <td>7.0</td>\n",
       "      <td>300.0</td>\n",
       "      <td>77.0</td>\n",
       "      <td>-0.7</td>\n",
       "      <td>1023.0</td>\n",
       "      <td>-18.8</td>\n",
       "      <td>0.0</td>\n",
       "      <td>NNW</td>\n",
       "      <td>4.4</td>\n",
       "      <td>Aotizhongxin</td>\n",
       "    </tr>\n",
       "    <tr>\n",
       "      <th>1</th>\n",
       "      <td>2</td>\n",
       "      <td>2013</td>\n",
       "      <td>3</td>\n",
       "      <td>1</td>\n",
       "      <td>1</td>\n",
       "      <td>8.0</td>\n",
       "      <td>8.0</td>\n",
       "      <td>4.0</td>\n",
       "      <td>7.0</td>\n",
       "      <td>300.0</td>\n",
       "      <td>77.0</td>\n",
       "      <td>-1.1</td>\n",
       "      <td>1023.2</td>\n",
       "      <td>-18.2</td>\n",
       "      <td>0.0</td>\n",
       "      <td>N</td>\n",
       "      <td>4.7</td>\n",
       "      <td>Aotizhongxin</td>\n",
       "    </tr>\n",
       "    <tr>\n",
       "      <th>2</th>\n",
       "      <td>3</td>\n",
       "      <td>2013</td>\n",
       "      <td>3</td>\n",
       "      <td>1</td>\n",
       "      <td>2</td>\n",
       "      <td>7.0</td>\n",
       "      <td>7.0</td>\n",
       "      <td>5.0</td>\n",
       "      <td>10.0</td>\n",
       "      <td>300.0</td>\n",
       "      <td>73.0</td>\n",
       "      <td>-1.1</td>\n",
       "      <td>1023.5</td>\n",
       "      <td>-18.2</td>\n",
       "      <td>0.0</td>\n",
       "      <td>NNW</td>\n",
       "      <td>5.6</td>\n",
       "      <td>Aotizhongxin</td>\n",
       "    </tr>\n",
       "    <tr>\n",
       "      <th>3</th>\n",
       "      <td>4</td>\n",
       "      <td>2013</td>\n",
       "      <td>3</td>\n",
       "      <td>1</td>\n",
       "      <td>3</td>\n",
       "      <td>6.0</td>\n",
       "      <td>6.0</td>\n",
       "      <td>11.0</td>\n",
       "      <td>11.0</td>\n",
       "      <td>300.0</td>\n",
       "      <td>72.0</td>\n",
       "      <td>-1.4</td>\n",
       "      <td>1024.5</td>\n",
       "      <td>-19.4</td>\n",
       "      <td>0.0</td>\n",
       "      <td>NW</td>\n",
       "      <td>3.1</td>\n",
       "      <td>Aotizhongxin</td>\n",
       "    </tr>\n",
       "    <tr>\n",
       "      <th>4</th>\n",
       "      <td>5</td>\n",
       "      <td>2013</td>\n",
       "      <td>3</td>\n",
       "      <td>1</td>\n",
       "      <td>4</td>\n",
       "      <td>3.0</td>\n",
       "      <td>3.0</td>\n",
       "      <td>12.0</td>\n",
       "      <td>12.0</td>\n",
       "      <td>300.0</td>\n",
       "      <td>72.0</td>\n",
       "      <td>-2.0</td>\n",
       "      <td>1025.2</td>\n",
       "      <td>-19.5</td>\n",
       "      <td>0.0</td>\n",
       "      <td>N</td>\n",
       "      <td>2.0</td>\n",
       "      <td>Aotizhongxin</td>\n",
       "    </tr>\n",
       "  </tbody>\n",
       "</table>\n",
       "</div>"
      ],
      "text/plain": [
       "   No  year  month  day  hour  PM2.5  PM10   SO2   NO2     CO    O3  TEMP  \\\n",
       "0   1  2013      3    1     0    4.0   4.0   4.0   7.0  300.0  77.0  -0.7   \n",
       "1   2  2013      3    1     1    8.0   8.0   4.0   7.0  300.0  77.0  -1.1   \n",
       "2   3  2013      3    1     2    7.0   7.0   5.0  10.0  300.0  73.0  -1.1   \n",
       "3   4  2013      3    1     3    6.0   6.0  11.0  11.0  300.0  72.0  -1.4   \n",
       "4   5  2013      3    1     4    3.0   3.0  12.0  12.0  300.0  72.0  -2.0   \n",
       "\n",
       "     PRES  DEWP  RAIN   wd  WSPM       station  \n",
       "0  1023.0 -18.8   0.0  NNW   4.4  Aotizhongxin  \n",
       "1  1023.2 -18.2   0.0    N   4.7  Aotizhongxin  \n",
       "2  1023.5 -18.2   0.0  NNW   5.6  Aotizhongxin  \n",
       "3  1024.5 -19.4   0.0   NW   3.1  Aotizhongxin  \n",
       "4  1025.2 -19.5   0.0    N   2.0  Aotizhongxin  "
      ]
     },
     "execution_count": 4,
     "metadata": {},
     "output_type": "execute_result"
    }
   ],
   "source": [
    "dframe_copy.head()"
   ]
  },
  {
   "cell_type": "code",
   "execution_count": 6,
   "metadata": {},
   "outputs": [
    {
     "data": {
      "text/html": [
       "<div>\n",
       "<style scoped>\n",
       "    .dataframe tbody tr th:only-of-type {\n",
       "        vertical-align: middle;\n",
       "    }\n",
       "\n",
       "    .dataframe tbody tr th {\n",
       "        vertical-align: top;\n",
       "    }\n",
       "\n",
       "    .dataframe thead th {\n",
       "        text-align: right;\n",
       "    }\n",
       "</style>\n",
       "<table border=\"1\" class=\"dataframe\">\n",
       "  <thead>\n",
       "    <tr style=\"text-align: right;\">\n",
       "      <th></th>\n",
       "      <th>No</th>\n",
       "      <th>year</th>\n",
       "      <th>month</th>\n",
       "      <th>day</th>\n",
       "      <th>hour</th>\n",
       "      <th>PM2.5</th>\n",
       "      <th>PM10</th>\n",
       "      <th>SO2</th>\n",
       "      <th>NO2</th>\n",
       "      <th>CO</th>\n",
       "      <th>O3</th>\n",
       "      <th>TEMP</th>\n",
       "      <th>PRES</th>\n",
       "      <th>DEWP</th>\n",
       "      <th>RAIN</th>\n",
       "      <th>WSPM</th>\n",
       "    </tr>\n",
       "  </thead>\n",
       "  <tbody>\n",
       "    <tr>\n",
       "      <th>count</th>\n",
       "      <td>420768.000000</td>\n",
       "      <td>420768.000000</td>\n",
       "      <td>420768.000000</td>\n",
       "      <td>420768.000000</td>\n",
       "      <td>420768.000000</td>\n",
       "      <td>412029.000000</td>\n",
       "      <td>414319.000000</td>\n",
       "      <td>411747.000000</td>\n",
       "      <td>408652.000000</td>\n",
       "      <td>400067.000000</td>\n",
       "      <td>407491.000000</td>\n",
       "      <td>420370.000000</td>\n",
       "      <td>420375.000000</td>\n",
       "      <td>420365.000000</td>\n",
       "      <td>420378.000000</td>\n",
       "      <td>420450.000000</td>\n",
       "    </tr>\n",
       "    <tr>\n",
       "      <th>mean</th>\n",
       "      <td>17532.500000</td>\n",
       "      <td>2014.662560</td>\n",
       "      <td>6.522930</td>\n",
       "      <td>15.729637</td>\n",
       "      <td>11.500000</td>\n",
       "      <td>79.793428</td>\n",
       "      <td>104.602618</td>\n",
       "      <td>15.830835</td>\n",
       "      <td>50.638586</td>\n",
       "      <td>1230.766454</td>\n",
       "      <td>57.372271</td>\n",
       "      <td>13.538976</td>\n",
       "      <td>1010.746982</td>\n",
       "      <td>2.490822</td>\n",
       "      <td>0.064476</td>\n",
       "      <td>1.729711</td>\n",
       "    </tr>\n",
       "    <tr>\n",
       "      <th>std</th>\n",
       "      <td>10122.116943</td>\n",
       "      <td>1.177198</td>\n",
       "      <td>3.448707</td>\n",
       "      <td>8.800102</td>\n",
       "      <td>6.922195</td>\n",
       "      <td>80.822391</td>\n",
       "      <td>91.772426</td>\n",
       "      <td>21.650603</td>\n",
       "      <td>35.127912</td>\n",
       "      <td>1160.182716</td>\n",
       "      <td>56.661607</td>\n",
       "      <td>11.436139</td>\n",
       "      <td>10.474055</td>\n",
       "      <td>13.793847</td>\n",
       "      <td>0.821004</td>\n",
       "      <td>1.246386</td>\n",
       "    </tr>\n",
       "    <tr>\n",
       "      <th>min</th>\n",
       "      <td>1.000000</td>\n",
       "      <td>2013.000000</td>\n",
       "      <td>1.000000</td>\n",
       "      <td>1.000000</td>\n",
       "      <td>0.000000</td>\n",
       "      <td>2.000000</td>\n",
       "      <td>2.000000</td>\n",
       "      <td>0.285600</td>\n",
       "      <td>1.026500</td>\n",
       "      <td>100.000000</td>\n",
       "      <td>0.214200</td>\n",
       "      <td>-19.900000</td>\n",
       "      <td>982.400000</td>\n",
       "      <td>-43.400000</td>\n",
       "      <td>0.000000</td>\n",
       "      <td>0.000000</td>\n",
       "    </tr>\n",
       "    <tr>\n",
       "      <th>25%</th>\n",
       "      <td>8766.750000</td>\n",
       "      <td>2014.000000</td>\n",
       "      <td>4.000000</td>\n",
       "      <td>8.000000</td>\n",
       "      <td>5.750000</td>\n",
       "      <td>20.000000</td>\n",
       "      <td>36.000000</td>\n",
       "      <td>3.000000</td>\n",
       "      <td>23.000000</td>\n",
       "      <td>500.000000</td>\n",
       "      <td>11.000000</td>\n",
       "      <td>3.100000</td>\n",
       "      <td>1002.300000</td>\n",
       "      <td>-8.900000</td>\n",
       "      <td>0.000000</td>\n",
       "      <td>0.900000</td>\n",
       "    </tr>\n",
       "    <tr>\n",
       "      <th>50%</th>\n",
       "      <td>17532.500000</td>\n",
       "      <td>2015.000000</td>\n",
       "      <td>7.000000</td>\n",
       "      <td>16.000000</td>\n",
       "      <td>11.500000</td>\n",
       "      <td>55.000000</td>\n",
       "      <td>82.000000</td>\n",
       "      <td>7.000000</td>\n",
       "      <td>43.000000</td>\n",
       "      <td>900.000000</td>\n",
       "      <td>45.000000</td>\n",
       "      <td>14.500000</td>\n",
       "      <td>1010.400000</td>\n",
       "      <td>3.100000</td>\n",
       "      <td>0.000000</td>\n",
       "      <td>1.400000</td>\n",
       "    </tr>\n",
       "    <tr>\n",
       "      <th>75%</th>\n",
       "      <td>26298.250000</td>\n",
       "      <td>2016.000000</td>\n",
       "      <td>10.000000</td>\n",
       "      <td>23.000000</td>\n",
       "      <td>17.250000</td>\n",
       "      <td>111.000000</td>\n",
       "      <td>145.000000</td>\n",
       "      <td>20.000000</td>\n",
       "      <td>71.000000</td>\n",
       "      <td>1500.000000</td>\n",
       "      <td>82.000000</td>\n",
       "      <td>23.300000</td>\n",
       "      <td>1019.000000</td>\n",
       "      <td>15.100000</td>\n",
       "      <td>0.000000</td>\n",
       "      <td>2.200000</td>\n",
       "    </tr>\n",
       "    <tr>\n",
       "      <th>max</th>\n",
       "      <td>35064.000000</td>\n",
       "      <td>2017.000000</td>\n",
       "      <td>12.000000</td>\n",
       "      <td>31.000000</td>\n",
       "      <td>23.000000</td>\n",
       "      <td>999.000000</td>\n",
       "      <td>999.000000</td>\n",
       "      <td>500.000000</td>\n",
       "      <td>290.000000</td>\n",
       "      <td>10000.000000</td>\n",
       "      <td>1071.000000</td>\n",
       "      <td>41.600000</td>\n",
       "      <td>1042.800000</td>\n",
       "      <td>29.100000</td>\n",
       "      <td>72.500000</td>\n",
       "      <td>13.200000</td>\n",
       "    </tr>\n",
       "  </tbody>\n",
       "</table>\n",
       "</div>"
      ],
      "text/plain": [
       "                  No           year          month            day  \\\n",
       "count  420768.000000  420768.000000  420768.000000  420768.000000   \n",
       "mean    17532.500000    2014.662560       6.522930      15.729637   \n",
       "std     10122.116943       1.177198       3.448707       8.800102   \n",
       "min         1.000000    2013.000000       1.000000       1.000000   \n",
       "25%      8766.750000    2014.000000       4.000000       8.000000   \n",
       "50%     17532.500000    2015.000000       7.000000      16.000000   \n",
       "75%     26298.250000    2016.000000      10.000000      23.000000   \n",
       "max     35064.000000    2017.000000      12.000000      31.000000   \n",
       "\n",
       "                hour          PM2.5           PM10            SO2  \\\n",
       "count  420768.000000  412029.000000  414319.000000  411747.000000   \n",
       "mean       11.500000      79.793428     104.602618      15.830835   \n",
       "std         6.922195      80.822391      91.772426      21.650603   \n",
       "min         0.000000       2.000000       2.000000       0.285600   \n",
       "25%         5.750000      20.000000      36.000000       3.000000   \n",
       "50%        11.500000      55.000000      82.000000       7.000000   \n",
       "75%        17.250000     111.000000     145.000000      20.000000   \n",
       "max        23.000000     999.000000     999.000000     500.000000   \n",
       "\n",
       "                 NO2             CO             O3           TEMP  \\\n",
       "count  408652.000000  400067.000000  407491.000000  420370.000000   \n",
       "mean       50.638586    1230.766454      57.372271      13.538976   \n",
       "std        35.127912    1160.182716      56.661607      11.436139   \n",
       "min         1.026500     100.000000       0.214200     -19.900000   \n",
       "25%        23.000000     500.000000      11.000000       3.100000   \n",
       "50%        43.000000     900.000000      45.000000      14.500000   \n",
       "75%        71.000000    1500.000000      82.000000      23.300000   \n",
       "max       290.000000   10000.000000    1071.000000      41.600000   \n",
       "\n",
       "                PRES           DEWP           RAIN           WSPM  \n",
       "count  420375.000000  420365.000000  420378.000000  420450.000000  \n",
       "mean     1010.746982       2.490822       0.064476       1.729711  \n",
       "std        10.474055      13.793847       0.821004       1.246386  \n",
       "min       982.400000     -43.400000       0.000000       0.000000  \n",
       "25%      1002.300000      -8.900000       0.000000       0.900000  \n",
       "50%      1010.400000       3.100000       0.000000       1.400000  \n",
       "75%      1019.000000      15.100000       0.000000       2.200000  \n",
       "max      1042.800000      29.100000      72.500000      13.200000  "
      ]
     },
     "execution_count": 6,
     "metadata": {},
     "output_type": "execute_result"
    }
   ],
   "source": [
    "dframe_copy.describe()"
   ]
  },
  {
   "cell_type": "code",
   "execution_count": 7,
   "metadata": {},
   "outputs": [
    {
     "name": "stdout",
     "output_type": "stream",
     "text": [
      "<class 'pandas.core.frame.DataFrame'>\n",
      "Int64Index: 420768 entries, 0 to 35063\n",
      "Data columns (total 18 columns):\n",
      "No         420768 non-null int64\n",
      "year       420768 non-null int64\n",
      "month      420768 non-null int64\n",
      "day        420768 non-null int64\n",
      "hour       420768 non-null int64\n",
      "PM2.5      412029 non-null float64\n",
      "PM10       414319 non-null float64\n",
      "SO2        411747 non-null float64\n",
      "NO2        408652 non-null float64\n",
      "CO         400067 non-null float64\n",
      "O3         407491 non-null float64\n",
      "TEMP       420370 non-null float64\n",
      "PRES       420375 non-null float64\n",
      "DEWP       420365 non-null float64\n",
      "RAIN       420378 non-null float64\n",
      "wd         418946 non-null object\n",
      "WSPM       420450 non-null float64\n",
      "station    420768 non-null object\n",
      "dtypes: float64(11), int64(5), object(2)\n",
      "memory usage: 61.0+ MB\n"
     ]
    }
   ],
   "source": [
    "dframe_copy.info()"
   ]
  },
  {
   "cell_type": "code",
   "execution_count": 8,
   "metadata": {},
   "outputs": [
    {
     "data": {
      "text/plain": [
       "No             0\n",
       "year           0\n",
       "month          0\n",
       "day            0\n",
       "hour           0\n",
       "PM2.5       8739\n",
       "PM10        6449\n",
       "SO2         9021\n",
       "NO2        12116\n",
       "CO         20701\n",
       "O3         13277\n",
       "TEMP         398\n",
       "PRES         393\n",
       "DEWP         403\n",
       "RAIN         390\n",
       "wd          1822\n",
       "WSPM         318\n",
       "station        0\n",
       "dtype: int64"
      ]
     },
     "execution_count": 8,
     "metadata": {},
     "output_type": "execute_result"
    }
   ],
   "source": [
    "# Resumo de valores missing por coluna - ANTES\n",
    "dframe_copy.isnull().sum()"
   ]
  },
  {
   "cell_type": "code",
   "execution_count": 9,
   "metadata": {},
   "outputs": [
    {
     "data": {
      "text/plain": [
       "count    412029.000000\n",
       "mean         79.793428\n",
       "std          80.822391\n",
       "min           2.000000\n",
       "25%          20.000000\n",
       "50%          55.000000\n",
       "75%         111.000000\n",
       "max         999.000000\n",
       "Name: PM2.5, dtype: float64"
      ]
     },
     "execution_count": 9,
     "metadata": {},
     "output_type": "execute_result"
    }
   ],
   "source": [
    "# Resumo da coluna PM2.5 (antes de tratar valores missing)\n",
    "dframe_copy['PM2.5'].describe()"
   ]
  },
  {
   "cell_type": "code",
   "execution_count": 10,
   "metadata": {},
   "outputs": [
    {
     "data": {
      "text/plain": [
       "count    414319.000000\n",
       "mean        104.602618\n",
       "std          91.772426\n",
       "min           2.000000\n",
       "25%          36.000000\n",
       "50%          82.000000\n",
       "75%         145.000000\n",
       "max         999.000000\n",
       "Name: PM10, dtype: float64"
      ]
     },
     "execution_count": 10,
     "metadata": {},
     "output_type": "execute_result"
    }
   ],
   "source": [
    "# Resumo da coluna PM10 (antes de tratar valores missing)\n",
    "dframe_copy['PM10'].describe()"
   ]
  },
  {
   "cell_type": "code",
   "execution_count": 11,
   "metadata": {},
   "outputs": [],
   "source": [
    "# Inserir valores missing\n",
    "dframe_copy['PM2.5'].fillna(dframe_copy['PM2.5'].median(), inplace=True)\n",
    "dframe_copy['PM10'].fillna(dframe_copy['PM10'].median(), inplace=True)"
   ]
  },
  {
   "cell_type": "code",
   "execution_count": 12,
   "metadata": {},
   "outputs": [
    {
     "data": {
      "text/plain": [
       "No             0\n",
       "year           0\n",
       "month          0\n",
       "day            0\n",
       "hour           0\n",
       "PM2.5          0\n",
       "PM10           0\n",
       "SO2         9021\n",
       "NO2        12116\n",
       "CO         20701\n",
       "O3         13277\n",
       "TEMP         398\n",
       "PRES         393\n",
       "DEWP         403\n",
       "RAIN         390\n",
       "wd          1822\n",
       "WSPM         318\n",
       "station        0\n",
       "dtype: int64"
      ]
     },
     "execution_count": 12,
     "metadata": {},
     "output_type": "execute_result"
    }
   ],
   "source": [
    "# Resumo de valores missing por coluna - DEPOIS\n",
    "dframe_copy.isnull().sum()"
   ]
  },
  {
   "cell_type": "code",
   "execution_count": 13,
   "metadata": {},
   "outputs": [
    {
     "data": {
      "text/plain": [
       "count    420768.000000\n",
       "mean         79.278489\n",
       "std          80.056799\n",
       "min           2.000000\n",
       "25%          21.000000\n",
       "50%          55.000000\n",
       "75%         109.000000\n",
       "max         999.000000\n",
       "Name: PM2.5, dtype: float64"
      ]
     },
     "execution_count": 13,
     "metadata": {},
     "output_type": "execute_result"
    }
   ],
   "source": [
    "# Resumo da coluna PM2.5 (depois de tratar valores missing)\n",
    "dframe_copy['PM2.5'].describe()"
   ]
  },
  {
   "cell_type": "code",
   "execution_count": 14,
   "metadata": {},
   "outputs": [
    {
     "data": {
      "text/plain": [
       "count    420768.000000\n",
       "mean        104.256193\n",
       "std          91.108745\n",
       "min           2.000000\n",
       "25%          36.000000\n",
       "50%          82.000000\n",
       "75%         144.000000\n",
       "max         999.000000\n",
       "Name: PM10, dtype: float64"
      ]
     },
     "execution_count": 14,
     "metadata": {},
     "output_type": "execute_result"
    }
   ],
   "source": [
    "# Resumo da coluna PM10 (depois de tratar valores missing)\n",
    "dframe_copy['PM10'].describe()"
   ]
  },
  {
   "cell_type": "code",
   "execution_count": 15,
   "metadata": {},
   "outputs": [
    {
     "data": {
      "text/plain": [
       "count    420370.000000\n",
       "mean         13.538976\n",
       "std          11.436139\n",
       "min         -19.900000\n",
       "25%           3.100000\n",
       "50%          14.500000\n",
       "75%          23.300000\n",
       "max          41.600000\n",
       "Name: TEMP, dtype: float64"
      ]
     },
     "execution_count": 15,
     "metadata": {},
     "output_type": "execute_result"
    }
   ],
   "source": [
    "# Resumo da coluna TEMP (depois de tratar valores missing)\n",
    "dframe_copy['TEMP'].describe()"
   ]
  },
  {
   "cell_type": "code",
   "execution_count": 16,
   "metadata": {
    "scrolled": true
   },
   "outputs": [
    {
     "data": {
      "image/png": "[encoded data removed]",
      "text/plain": [
       "<Figure size 864x108 with 1 Axes>"
      ]
     },
     "metadata": {
      "needs_background": "light"
     },
     "output_type": "display_data"
    },
    {
     "data": {
      "image/png": "[encoded data removed]",
      "text/plain": [
       "<Figure size 864x108 with 1 Axes>"
      ]
     },
     "metadata": {
      "needs_background": "light"
     },
     "output_type": "display_data"
    }
   ],
   "source": [
    "# Analisar histórico de PM2.5 e PM10 ao longo dos anos de 2013 a 2017\n",
    "# 2014, ano que teve maior pico histórico de emissão de particulas e vai diminuindo com o passar dos anos\n",
    "# PM2.5 variando de 50 a 60, particulas menores que 2.5 micrômetros\n",
    "# PM10 variando de 70 a 90, particulas menores que 10 micrômetros\n",
    "\n",
    "df_year1 = dframe_copy[['year', 'PM2.5']].groupby(['year']).median()\n",
    "df_year2 = dframe_copy[['year', 'PM10']].groupby(['year']).median()\n",
    "\n",
    "fig,ax1 = plt.subplots(figsize=(12,1.5))\n",
    "fig,ax2 = plt.subplots(figsize=(12,1.5))\n",
    "\n",
    "ax1.plot(df_year1, color = 'blue')\n",
    "ax2.plot(df_year2, color = 'red')\n",
    "\n",
    "ax1.set_title('Histórico PM2.5')\n",
    "ax1.set_xlabel('Ano')\n",
    "ax1.set_ylabel('PM2.5')\n",
    "\n",
    "ax2.set_title('Histórico PM10')\n",
    "ax2.set_xlabel('Ano')\n",
    "ax2.set_ylabel('PM10')\n",
    "\n",
    "plt.show()"
   ]
  },
  {
   "cell_type": "code",
   "execution_count": 17,
   "metadata": {},
   "outputs": [],
   "source": [
    "# Filtro dos anos de 2014 e 2016 para comparação das emissões de particulas.\n",
    "# Ano de 2017 não foi considerado, pois constava apenas 2 meses\n",
    "\n",
    "df_2014 = dframe_copy[dframe_copy['year']==2014]\n",
    "df_2016 = dframe_copy[dframe_copy['year']==2016]"
   ]
  },
  {
   "cell_type": "code",
   "execution_count": 18,
   "metadata": {
    "scrolled": true
   },
   "outputs": [
    {
     "data": {
      "image/png": "[encoded data removed]",
      "text/plain": [
       "<Figure size 864x108 with 1 Axes>"
      ]
     },
     "metadata": {
      "needs_background": "light"
     },
     "output_type": "display_data"
    },
    {
     "data": {
      "image/png": "[encoded data removed]",
      "text/plain": [
       "<Figure size 864x108 with 1 Axes>"
      ]
     },
     "metadata": {
      "needs_background": "light"
     },
     "output_type": "display_data"
    }
   ],
   "source": [
    "# Comparativo de PM2.5 em 2014 e 2016, por mês\n",
    "# Em 2014, Maior pico em Fevereiro e menor em Dezembro\n",
    "# Em 2016, Maior pico em Dezembro e menor em Fevereiro\n",
    "\n",
    "df_2014_pm25 = df_2014[['month', 'PM2.5']].groupby(['month']).median()\n",
    "fig,ax1 = plt.subplots(figsize=(12,1.5))\n",
    "ax1.plot(df_2014_pm25, color = 'blue')\n",
    "\n",
    "ax1.set_title('Histórico PM2.5 - 2014')\n",
    "ax1.set_xlabel('Meses')\n",
    "ax1.set_ylabel('PM2.5')\n",
    "\n",
    "df_2016_pm25 = df_2016[['month', 'PM2.5']].groupby(['month']).median()\n",
    "fig,ax1 = plt.subplots(figsize=(12,1.5))\n",
    "ax1.plot(df_2016_pm25, color = 'red')\n",
    "\n",
    "ax1.set_title('Histórico PM2.5 - 2016')\n",
    "ax1.set_xlabel('Meses')\n",
    "ax1.set_ylabel('PM2.5')\n",
    "\n",
    "plt.show()"
   ]
  },
  {
   "cell_type": "code",
   "execution_count": 19,
   "metadata": {},
   "outputs": [
    {
     "data": {
      "image/png": "[encoded data removed]",
      "text/plain": [
       "<Figure size 864x108 with 1 Axes>"
      ]
     },
     "metadata": {
      "needs_background": "light"
     },
     "output_type": "display_data"
    },
    {
     "data": {
      "image/png": "[encoded data removed]",
      "text/plain": [
       "<Figure size 864x108 with 1 Axes>"
      ]
     },
     "metadata": {
      "needs_background": "light"
     },
     "output_type": "display_data"
    }
   ],
   "source": [
    "# Comparativo de PM10 em 2014 e 2016, por mês\n",
    "# Em 2014, maiores valores foram em Abril e Outubro e menores em Junho e Dezembro\n",
    "# Em 2016, maiores valores foram em Novembro e Dezembro e menores em Janeiro e Fevereiro\n",
    "\n",
    "df_2014_pm10 = df_2014[['month', 'PM10']].groupby(['month']).median()\n",
    "fig,ax1 = plt.subplots(figsize=(12,1.5))\n",
    "ax1.plot(df_2014_pm10, color = 'blue')\n",
    "\n",
    "ax1.set_title('Histórico PM10 - 2014')\n",
    "ax1.set_xlabel('Meses')\n",
    "ax1.set_ylabel('PM10')\n",
    "\n",
    "df_2016_pm10 = df_2016[['month', 'PM10']].groupby(['month']).median()\n",
    "fig,ax1 = plt.subplots(figsize=(12,1.5))\n",
    "ax1.plot(df_2016_pm10, color = 'red')\n",
    "\n",
    "ax1.set_title('Histórico PM10 - 2016')\n",
    "ax1.set_xlabel('Meses')\n",
    "ax1.set_ylabel('PM10')\n",
    "\n",
    "plt.show()"
   ]
  },
  {
   "cell_type": "code",
   "execution_count": 22,
   "metadata": {},
   "outputs": [
    {
     "data": {
      "image/png": "[encoded data removed]",
      "text/plain": [
       "<Figure size 432x288 with 2 Axes>"
      ]
     },
     "metadata": {
      "needs_background": "light"
     },
     "output_type": "display_data"
    }
   ],
   "source": [
    "#Mapa de calor, identificando a correlacao entre variáveis\n",
    "corr = dframe_copy.corr()\n",
    "ax = sns.heatmap(\n",
    "    corr,\n",
    "    vmin = -1, vmax = 1, center = 0,\n",
    "    cmap = sns.diverging_palette(10,600, n= 200),\n",
    " \n",
    "    square=True)\n",
    "\n",
    "ax.set_xticklabels(\n",
    "    ax.get_xticklabels(),\n",
    "    rotation=45,\n",
    "    horizontalalignment='right');"
   ]
  },
  {
   "cell_type": "code",
   "execution_count": 23,
   "metadata": {},
   "outputs": [
    {
     "data": {
      "image/png": "[encoded data removed]",
      "text/plain": [
       "<Figure size 864x108 with 1 Axes>"
      ]
     },
     "metadata": {
      "needs_background": "light"
     },
     "output_type": "display_data"
    },
    {
     "data": {
      "image/png": "[encoded data removed]",
      "text/plain": [
       "<Figure size 864x108 with 1 Axes>"
      ]
     },
     "metadata": {
      "needs_background": "light"
     },
     "output_type": "display_data"
    }
   ],
   "source": [
    "# Comparativo de CO em 2014 e 2016, por mês\n",
    "df_2014_co = df_2014[['month', 'CO']].groupby(['month']).median()\n",
    "fig,ax1 = plt.subplots(figsize=(12,1.5))\n",
    "ax1.plot(df_2014_co, color = 'blue')\n",
    "\n",
    "ax1.set_title('Histórico CO - 2014')\n",
    "ax1.set_xlabel('Meses')\n",
    "ax1.set_ylabel('CO')\n",
    "\n",
    "df_2016_co = df_2016[['month', 'CO']].groupby(['month']).median()\n",
    "fig,ax1 = plt.subplots(figsize=(12,1.5))\n",
    "ax1.plot(df_2016_co, color = 'red')\n",
    "\n",
    "ax1.set_title('Histórico CO - 2016')\n",
    "ax1.set_xlabel('Meses')\n",
    "ax1.set_ylabel('CO')\n",
    "\n",
    "plt.show()"
   ]
  },
  {
   "cell_type": "markdown",
   "metadata": {},
   "source": [
    "### Apresentação dos resultados"
   ]
  },
  {
   "cell_type": "code",
   "execution_count": null,
   "metadata": {},
   "outputs": [],
   "source": [
    "# Partículas PM2.5, PM10, SO2, NO2, CO apresentam correlação positiva.\n",
    "# SO2, NO2, CO são gases tóxicos e tem grande parte de sua produção pela atividade industrial.\n",
    "# Ano de 2014, maiores níveis de emissões de partículas foram no começo do ano.\n",
    "# Já em 2016, maiores níveis de emossões de particulas foram no final do ano."
   ]
  }
 ],
 "metadata": {
  "kernelspec": {
   "display_name": "Python 3",
   "language": "python",
   "name": "python3"
  },
  "language_info": {
   "codemirror_mode": {
    "name": "ipython",
    "version": 3
   },
   "file_extension": ".py",
   "mimetype": "text/x-python",
   "name": "python",
   "nbconvert_exporter": "python",
   "pygments_lexer": "ipython3",
   "version": "3.7.0"
  }
 },
 "nbformat": 4,
 "nbformat_minor": 2
}
