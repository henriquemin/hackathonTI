{
 "cells": [
  {
   "cell_type": "markdown",
   "metadata": {},
   "source": [
    "## Hackathon - Carreiras de TI - Curitiba/PR"
   ]
  },
  {
   "cell_type": "markdown",
   "metadata": {},
   "source": [
    "### Contexto:\n",
    "\n",
    "- Dataset contendo dados de qualidade do ar do Centro de monitoramento municipal do meio ambiente de Beijing, de março de 2013 à fevereiro de 2017.\n",
    "\n",
    "- PM2.5 se refere a particulas atmosféricas que possuem diâmetro menor que 2.5 micrômetros, é uma medida de poluição."
   ]
  },
  {
   "cell_type": "markdown",
   "metadata": {},
   "source": [
    "### 1. Identificação do problema a resolver\n",
    "- Analisar as variações na qualidade do ar em metrópole asiática através do comportamento dos poluentes particulados PM2.5 e PM10\n",
    "- Variaveis a serem trabalhadas: Year, Month, PM2.5, PM10"
   ]
  },
  {
   "cell_type": "markdown",
   "metadata": {},
   "source": [
    "### 2. Preparação dos datasets e exploração dos dados"
   ]
  },
  {
   "cell_type": "code",
   "execution_count": 1,
   "metadata": {},
   "outputs": [],
   "source": [
    "# Importar as bibliotecas para fazer análise exploratória dos dados\n",
    "\n",
    "import numpy as np\n",
    "import pandas as pd\n",
    "import seaborn as sns\n",
    "import matplotlib.pyplot as plt\n",
    "%matplotlib inline\n",
    "\n",
    "sns.set_style()\n",
    "\n",
    "import os\n",
    "import glob"
   ]
  },
  {
   "cell_type": "code",
   "execution_count": 2,
   "metadata": {},
   "outputs": [
    {
     "data": {
      "text/html": [
       "<div>\n",
       "<style scoped>\n",
       "    .dataframe tbody tr th:only-of-type {\n",
       "        vertical-align: middle;\n",
       "    }\n",
       "\n",
       "    .dataframe tbody tr th {\n",
       "        vertical-align: top;\n",
       "    }\n",
       "\n",
       "    .dataframe thead th {\n",
       "        text-align: right;\n",
       "    }\n",
       "</style>\n",
       "<table border=\"1\" class=\"dataframe\">\n",
       "  <thead>\n",
       "    <tr style=\"text-align: right;\">\n",
       "      <th></th>\n",
       "      <th>No</th>\n",
       "      <th>year</th>\n",
       "      <th>month</th>\n",
       "      <th>day</th>\n",
       "      <th>hour</th>\n",
       "      <th>PM2.5</th>\n",
       "      <th>PM10</th>\n",
       "      <th>SO2</th>\n",
       "      <th>NO2</th>\n",
       "      <th>CO</th>\n",
       "      <th>O3</th>\n",
       "      <th>TEMP</th>\n",
       "      <th>PRES</th>\n",
       "      <th>DEWP</th>\n",
       "      <th>RAIN</th>\n",
       "      <th>wd</th>\n",
       "      <th>WSPM</th>\n",
       "      <th>station</th>\n",
       "    </tr>\n",
       "  </thead>\n",
       "  <tbody>\n",
       "    <tr>\n",
       "      <th>0</th>\n",
       "      <td>1</td>\n",
       "      <td>2013</td>\n",
       "      <td>3</td>\n",
       "      <td>1</td>\n",
       "      <td>0</td>\n",
       "      <td>4.0</td>\n",
       "      <td>4.0</td>\n",
       "      <td>4.0</td>\n",
       "      <td>7.0</td>\n",
       "      <td>300.0</td>\n",
       "      <td>77.0</td>\n",
       "      <td>-0.7</td>\n",
       "      <td>1023.0</td>\n",
       "      <td>-18.8</td>\n",
       "      <td>0.0</td>\n",
       "      <td>NNW</td>\n",
       "      <td>4.4</td>\n",
       "      <td>Aotizhongxin</td>\n",
       "    </tr>\n",
       "    <tr>\n",
       "      <th>1</th>\n",
       "      <td>2</td>\n",
       "      <td>2013</td>\n",
       "      <td>3</td>\n",
       "      <td>1</td>\n",
       "      <td>1</td>\n",
       "      <td>8.0</td>\n",
       "      <td>8.0</td>\n",
       "      <td>4.0</td>\n",
       "      <td>7.0</td>\n",
       "      <td>300.0</td>\n",
       "      <td>77.0</td>\n",
       "      <td>-1.1</td>\n",
       "      <td>1023.2</td>\n",
       "      <td>-18.2</td>\n",
       "      <td>0.0</td>\n",
       "      <td>N</td>\n",
       "      <td>4.7</td>\n",
       "      <td>Aotizhongxin</td>\n",
       "    </tr>\n",
       "    <tr>\n",
       "      <th>2</th>\n",
       "      <td>3</td>\n",
       "      <td>2013</td>\n",
       "      <td>3</td>\n",
       "      <td>1</td>\n",
       "      <td>2</td>\n",
       "      <td>7.0</td>\n",
       "      <td>7.0</td>\n",
       "      <td>5.0</td>\n",
       "      <td>10.0</td>\n",
       "      <td>300.0</td>\n",
       "      <td>73.0</td>\n",
       "      <td>-1.1</td>\n",
       "      <td>1023.5</td>\n",
       "      <td>-18.2</td>\n",
       "      <td>0.0</td>\n",
       "      <td>NNW</td>\n",
       "      <td>5.6</td>\n",
       "      <td>Aotizhongxin</td>\n",
       "    </tr>\n",
       "    <tr>\n",
       "      <th>3</th>\n",
       "      <td>4</td>\n",
       "      <td>2013</td>\n",
       "      <td>3</td>\n",
       "      <td>1</td>\n",
       "      <td>3</td>\n",
       "      <td>6.0</td>\n",
       "      <td>6.0</td>\n",
       "      <td>11.0</td>\n",
       "      <td>11.0</td>\n",
       "      <td>300.0</td>\n",
       "      <td>72.0</td>\n",
       "      <td>-1.4</td>\n",
       "      <td>1024.5</td>\n",
       "      <td>-19.4</td>\n",
       "      <td>0.0</td>\n",
       "      <td>NW</td>\n",
       "      <td>3.1</td>\n",
       "      <td>Aotizhongxin</td>\n",
       "    </tr>\n",
       "    <tr>\n",
       "      <th>4</th>\n",
       "      <td>5</td>\n",
       "      <td>2013</td>\n",
       "      <td>3</td>\n",
       "      <td>1</td>\n",
       "      <td>4</td>\n",
       "      <td>3.0</td>\n",
       "      <td>3.0</td>\n",
       "      <td>12.0</td>\n",
       "      <td>12.0</td>\n",
       "      <td>300.0</td>\n",
       "      <td>72.0</td>\n",
       "      <td>-2.0</td>\n",
       "      <td>1025.2</td>\n",
       "      <td>-19.5</td>\n",
       "      <td>0.0</td>\n",
       "      <td>N</td>\n",
       "      <td>2.0</td>\n",
       "      <td>Aotizhongxin</td>\n",
       "    </tr>\n",
       "  </tbody>\n",
       "</table>\n",
       "</div>"
      ],
      "text/plain": [
       "   No  year  month  day  hour  PM2.5  PM10   SO2   NO2     CO    O3  TEMP  \\\n",
       "0   1  2013      3    1     0    4.0   4.0   4.0   7.0  300.0  77.0  -0.7   \n",
       "1   2  2013      3    1     1    8.0   8.0   4.0   7.0  300.0  77.0  -1.1   \n",
       "2   3  2013      3    1     2    7.0   7.0   5.0  10.0  300.0  73.0  -1.1   \n",
       "3   4  2013      3    1     3    6.0   6.0  11.0  11.0  300.0  72.0  -1.4   \n",
       "4   5  2013      3    1     4    3.0   3.0  12.0  12.0  300.0  72.0  -2.0   \n",
       "\n",
       "     PRES  DEWP  RAIN   wd  WSPM       station  \n",
       "0  1023.0 -18.8   0.0  NNW   4.4  Aotizhongxin  \n",
       "1  1023.2 -18.2   0.0    N   4.7  Aotizhongxin  \n",
       "2  1023.5 -18.2   0.0  NNW   5.6  Aotizhongxin  \n",
       "3  1024.5 -19.4   0.0   NW   3.1  Aotizhongxin  \n",
       "4  1025.2 -19.5   0.0    N   2.0  Aotizhongxin  "
      ]
     },
     "execution_count": 2,
     "metadata": {},
     "output_type": "execute_result"
    }
   ],
   "source": [
    "# Extrair o conjunto de datasets e concatená-los em 1 arquivo \n",
    "\n",
    "path = r\"C:\\Users\\Henrique.Min\\Desktop\\Temp\\PRSA_Data\" # Local onde se encontram os datasets\n",
    "all_files = glob.glob(os.path.join(path,\"*.csv\"))      # Agrupamento dos datasets\n",
    "\n",
    "df = pd.DataFrame()\n",
    "list_ = []\n",
    "\n",
    "for file_ in all_files:\n",
    "    df = pd.read_csv(file_, index_col = None, header = 0)\n",
    "    list_.append(df)\n",
    "    \n",
    "df = pd.concat(list_)\n",
    "\n",
    "cols = ['No', 'year', 'month', 'day', 'hour', 'PM2.5', 'PM10', 'SO2', 'NO2', 'CO', 'O3',\n",
    "        'TEMP', 'PRES', 'DEWP', 'RAIN', 'wd', 'WSPM', 'station']\n",
    "\n",
    "df = df[cols]\n",
    "df.head()"
   ]
  },
  {
   "cell_type": "code",
   "execution_count": 3,
   "metadata": {},
   "outputs": [],
   "source": [
    "# Cria uma cópia do dframe\n",
    "df_copy = df.copy()"
   ]
  },
  {
   "cell_type": "code",
   "execution_count": null,
   "metadata": {},
   "outputs": [],
   "source": [
    "df_copy.head()"
   ]
  },
  {
   "cell_type": "code",
   "execution_count": null,
   "metadata": {},
   "outputs": [],
   "source": [
    "# Resumo do dataset por coluna: contagem, media, desvio padrão, vmin, vmax\n",
    "df_copy.describe()"
   ]
  },
  {
   "cell_type": "code",
   "execution_count": null,
   "metadata": {},
   "outputs": [],
   "source": [
    "# Resumo de total de registros por coluna, tipo de dado, quantidade total de colunas, uso de memória\n",
    "df_copy.info()"
   ]
  },
  {
   "cell_type": "code",
   "execution_count": 15,
   "metadata": {},
   "outputs": [
    {
     "name": "stdout",
     "output_type": "stream",
     "text": [
      "--> Checagem de valores missing: \n"
     ]
    },
    {
     "data": {
      "text/plain": [
       "No             0\n",
       "year           0\n",
       "month          0\n",
       "day            0\n",
       "hour           0\n",
       "PM2.5       8739\n",
       "PM10        6449\n",
       "SO2         9021\n",
       "NO2        12116\n",
       "CO         20701\n",
       "O3         13277\n",
       "TEMP         398\n",
       "PRES         393\n",
       "DEWP         403\n",
       "RAIN         390\n",
       "wd          1822\n",
       "WSPM         318\n",
       "station        0\n",
       "dtype: int64"
      ]
     },
     "execution_count": 15,
     "metadata": {},
     "output_type": "execute_result"
    }
   ],
   "source": [
    "# Verificação de valores missing presentes por coluna\n",
    "# Identificado valores missing de PM2.5 até WSPM\n",
    "print(\"--> Checagem de valores missing: \")\n",
    "df_copy.isnull().sum()"
   ]
  },
  {
   "cell_type": "code",
   "execution_count": 17,
   "metadata": {},
   "outputs": [
    {
     "name": "stdout",
     "output_type": "stream",
     "text": [
      "--> Resumo PM2.5: \n"
     ]
    },
    {
     "data": {
      "text/plain": [
       "count    412029.000000\n",
       "mean         79.793428\n",
       "std          80.822391\n",
       "min           2.000000\n",
       "25%          20.000000\n",
       "50%          55.000000\n",
       "75%         111.000000\n",
       "max         999.000000\n",
       "Name: PM2.5, dtype: float64"
      ]
     },
     "metadata": {},
     "output_type": "display_data"
    },
    {
     "name": "stdout",
     "output_type": "stream",
     "text": [
      "\n",
      " - - - - - - - - - - - - - - - - - - - -  \n",
      "\n",
      "--> Resumo PM10: \n"
     ]
    },
    {
     "data": {
      "text/plain": [
       "count    414319.000000\n",
       "mean        104.602618\n",
       "std          91.772426\n",
       "min           2.000000\n",
       "25%          36.000000\n",
       "50%          82.000000\n",
       "75%         145.000000\n",
       "max         999.000000\n",
       "Name: PM10, dtype: float64"
      ]
     },
     "metadata": {},
     "output_type": "display_data"
    }
   ],
   "source": [
    "# Descricao resumida da coluna PM2.5 e PM10, antes da normalização dos dados\n",
    "print(\"--> Resumo PM2.5: \")\n",
    "display(df_copy['PM2.5'].describe())\n",
    "\n",
    "print(\"\\n\", \"- - \" * 10, \"\\n\")\n",
    "\n",
    "print(\"--> Resumo PM10: \")\n",
    "display(df_copy['PM10'].describe())"
   ]
  },
  {
   "cell_type": "code",
   "execution_count": 19,
   "metadata": {},
   "outputs": [],
   "source": [
    "# Inserir valores missing para normalização de dados nas variáveis PM2.5 e PM10\n",
    "df_copy['PM2.5'].fillna(df_copy['PM2.5'].median(), inplace = True)\n",
    "df_copy['PM10'].fillna(df_copy['PM10'].median(), inplace = True)"
   ]
  },
  {
   "cell_type": "code",
   "execution_count": 21,
   "metadata": {},
   "outputs": [
    {
     "name": "stdout",
     "output_type": "stream",
     "text": [
      "--> Normalização dos dados em PM2.5 e PM10: \n"
     ]
    },
    {
     "data": {
      "text/plain": [
       "No             0\n",
       "year           0\n",
       "month          0\n",
       "day            0\n",
       "hour           0\n",
       "PM2.5          0\n",
       "PM10           0\n",
       "SO2         9021\n",
       "NO2        12116\n",
       "CO         20701\n",
       "O3         13277\n",
       "TEMP         398\n",
       "PRES         393\n",
       "DEWP         403\n",
       "RAIN         390\n",
       "wd          1822\n",
       "WSPM         318\n",
       "station        0\n",
       "dtype: int64"
      ]
     },
     "execution_count": 21,
     "metadata": {},
     "output_type": "execute_result"
    }
   ],
   "source": [
    "# Verificando se valores missing foram preenchidos em PM2.5 e PM10\n",
    "print(\"--> Normalização dos dados em PM2.5 e PM10: \")\n",
    "df_copy.isnull().sum()"
   ]
  },
  {
   "cell_type": "code",
   "execution_count": 22,
   "metadata": {},
   "outputs": [
    {
     "name": "stdout",
     "output_type": "stream",
     "text": [
      "--> Resumo PM2.5: \n"
     ]
    },
    {
     "data": {
      "text/plain": [
       "count    420768.000000\n",
       "mean         79.278489\n",
       "std          80.056799\n",
       "min           2.000000\n",
       "25%          21.000000\n",
       "50%          55.000000\n",
       "75%         109.000000\n",
       "max         999.000000\n",
       "Name: PM2.5, dtype: float64"
      ]
     },
     "metadata": {},
     "output_type": "display_data"
    },
    {
     "name": "stdout",
     "output_type": "stream",
     "text": [
      "\n",
      " - - - - - - - - - - - - - - - - - - - -  \n",
      "\n",
      "--> Resumo PM10: \n"
     ]
    },
    {
     "data": {
      "text/plain": [
       "count    420768.000000\n",
       "mean        104.256193\n",
       "std          91.108745\n",
       "min           2.000000\n",
       "25%          36.000000\n",
       "50%          82.000000\n",
       "75%         144.000000\n",
       "max         999.000000\n",
       "Name: PM10, dtype: float64"
      ]
     },
     "metadata": {},
     "output_type": "display_data"
    }
   ],
   "source": [
    "# Verificar se valores missing afetaram o resumo dos dados de PM2.5 e PM10\n",
    "# Valores missing aumentaram a contagem de registros e houve uma pequena alteração na média, desvio padrao e a frequencia de valores\n",
    "\n",
    "print(\"--> Resumo PM2.5: \")\n",
    "display(df_copy['PM2.5'].describe())\n",
    "\n",
    "print(\"\\n\", \"- - \" * 10, \"\\n\")\n",
    "\n",
    "print(\"--> Resumo PM10: \")\n",
    "display(df_copy['PM10'].describe())"
   ]
  },
  {
   "cell_type": "code",
   "execution_count": 43,
   "metadata": {},
   "outputs": [
    {
     "data": {
      "image/png": "[encoded data removed]",
      "text/plain": [
       "<Figure size 1080x360 with 1 Axes>"
      ]
     },
     "metadata": {},
     "output_type": "display_data"
    }
   ],
   "source": [
    "# Analiser histórico de emissões de PM2.5 e PM10 de todo o período do dataset\n",
    "# 2014 foi o ano que apresentou maior nível de emissão de ambos os PMs\n",
    "# PM2.5 variou de 50 a 60\n",
    "df_year_PM25 = df_copy[['year', \"PM2.5\"]].groupby(['year']).median()\n",
    "df_year_PM10 = df_copy[['year', 'PM10']].groupby(['year']).median()\n",
    "\n",
    "fig, ax1 = plt.subplots(figsize=(15,5))\n",
    "\n",
    "ax1.plot(df_year_PM25, color = 'blue')\n",
    "ax1.plot(df_year_PM10, color = 'red')\n",
    "\n",
    "ax1.set_title('Mediana de PM2.5 e PM10 por ano', fontsize = 15)\n",
    "ax1.set_xlabel('Ano')\n",
    "ax1.set_ylabel('Emissão de PM2.5 e PM10')\n",
    "\n",
    "plt.show()"
   ]
  },
  {
   "cell_type": "code",
   "execution_count": null,
   "metadata": {},
   "outputs": [],
   "source": [
    "# Filtrar os anos de 2014 (ano de maior emissão) e 2016 (ano de menor emissão)\n",
    "# Ano de 2017 apresenta apenas 2 meses, por isso não foi considerado para comparativo\n",
    "df_2014 = df_copy[df_copy['year'] == 2014]\n",
    "df_2016 = df_copy[df_copy['year'] == 2016]"
   ]
  },
  {
   "cell_type": "code",
   "execution_count": null,
   "metadata": {},
   "outputs": [],
   "source": [
    "# Analisar emissão de PM2.5 no ano de 2014 e 2016 por mês\n",
    "df_2014_PM25 = df_2014[['month', 'PM2.5']].groupby(['month']).median()\n",
    "fig, ax1 = plt.subplots(figsize = (12,2))\n",
    "ax1.plot(df_2014_PM25, color = 'blue')\n",
    "ax1.set_title('Mediana de PM2.5 por mês - 2014', fontsize = 15)\n",
    "ax1.set_xlabel('Meses')\n",
    "ax2.set_ylabel('PM2.5')\n",
    "\n",
    "\n",
    "df_2016_PM25 = df_2016[['month', 'PM2.5']].groupby(['month']).median()\n",
    "fig, ax2 = plt.subplots(figsize = (12,2))\n",
    "ax2.plot(df_2016_PM25, color = 'red')\n",
    "ax2.set_title('Mediana de PM2.5 por mês - 2016', fontsize = 15)\n",
    "ax2.set_xlabel('Meses')\n",
    "ax2.set_ylabel('PM2.5')\n",
    "\n",
    "plt.show()"
   ]
  },
  {
   "cell_type": "code",
   "execution_count": null,
   "metadata": {},
   "outputs": [],
   "source": [
    "# Analisar emissão de PM10 no ano de 2014 e 2016 por mês\n",
    "df_2014_PM10 = df_2014[['month','PM10']].groupby(['month']).median()\n",
    "fig, ax1 = plt.subplots(figsize = (12,2))\n",
    "ax1.plot(df_2014_PM10, color = 'blue')\n",
    "ax1.set_title('Mediana de PM10 por mês - 2014')\n",
    "ax1.set_xlabel('Mês')\n",
    "ax1.set_ylabel('PM10')\n",
    "\n",
    "df_2016_PM10 = df_2016[['month', 'PM10']].groupby(['month']).median()\n",
    "fig, ax2 = plt.subplots(figsize =(12,2))\n",
    "ax2.plot(df_2016_PM10, color = 'red')\n",
    "ax2.set_title('Mediana de PM10 por mês - 2016')\n",
    "ax2.set_xlabel('Mês')\n",
    "ax2.set_ylabel('PM10')\n",
    "\n",
    "plt.show()"
   ]
  },
  {
   "cell_type": "code",
   "execution_count": 4,
   "metadata": {},
   "outputs": [
    {
     "data": {
      "image/png": "[encoded data removed]",
      "text/plain": [
       "<Figure size 432x288 with 2 Axes>"
      ]
     },
     "metadata": {},
     "output_type": "display_data"
    }
   ],
   "source": [
    "# Mapa de calor, identificando a correlação entre as variáveis\n",
    "corr = df_copy.corr()\n",
    "ax = sns.heatmap(corr, vmin = -1, vmax = 1, center = 0, cmap = sns.diverging_palette(10, 600, n =200), square = True)\n",
    "\n",
    "ax.set_xticklabels(ax.get_xticklabels(), rotation = 45, horizontalalignment = 'right');"
   ]
  },
  {
   "cell_type": "code",
   "execution_count": null,
   "metadata": {},
   "outputs": [],
   "source": [
    "# Comparativo de CO em 2014 e 2016 por mês\n",
    "df_2014_co = df_2014[['month', 'CO']].groupby(['month']).median()\n",
    "fig,ax1 = plt.subplots(figsize=(12,1.5))\n",
    "ax1.plot(df_2014_co, color = 'blue')\n",
    "\n",
    "ax1.set_title('Histórico CO - 2014')\n",
    "ax1.set_xlabel('Meses')\n",
    "ax1.set_ylabel('CO')\n",
    "\n",
    "df_2016_co = df_2016[['month', 'CO']].groupby(['month']).median()\n",
    "fig,ax1 = plt.subplots(figsize=(12,1.5))\n",
    "ax1.plot(df_2016_co, color = 'red')\n",
    "\n",
    "ax1.set_title('Histórico CO - 2016')\n",
    "ax1.set_xlabel('Meses')\n",
    "ax1.set_ylabel('CO')\n",
    "\n",
    "plt.show()"
   ]
  },
  {
   "cell_type": "markdown",
   "metadata": {},
   "source": [
    "### 3. Resultados"
   ]
  },
  {
   "cell_type": "markdown",
   "metadata": {},
   "source": [
    "- Partículas PM2.5, PM10, SO2, NO2, CO apresentam correlação positiva.\n",
    "- SO2, NO2, CO são gases tóxicos e tem grande parte de sua produção pela atividade industrial.\n",
    "- Ano de 2014, maiores níveis de emissões de partículas foram no começo do ano.\n",
    "- Já em 2016, maiores níveis de emossões de particulas foram no final do ano."
   ]
  }
 ],
 "metadata": {
  "kernelspec": {
   "display_name": "Python 3",
   "language": "python",
   "name": "python3"
  },
  "language_info": {
   "codemirror_mode": {
    "name": "ipython",
    "version": 3
   },
   "file_extension": ".py",
   "mimetype": "text/x-python",
   "name": "python",
   "nbconvert_exporter": "python",
   "pygments_lexer": "ipython3",
   "version": "3.6.5"
  }
 },
 "nbformat": 4,
 "nbformat_minor": 2
}
